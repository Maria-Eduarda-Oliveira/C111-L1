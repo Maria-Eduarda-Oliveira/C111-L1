{
 "cells": [
  {
   "cell_type": "markdown",
   "id": "37814e23",
   "metadata": {},
   "source": [
    "1. Por meio do dataset paises.csv, trace dois gráficos de linhas em\n",
    "um mesmo plano cartesiano, um mostrando a taxa de mortalidade (Deathrate) e outro a taxa de natalidade (Birthrate) dos países da\n",
    "América do Norte;"
   ]
  },
  {
   "cell_type": "code",
   "execution_count": null,
   "id": "65108ecc",
   "metadata": {},
   "outputs": [],
   "source": [
    "import pandas as pd\n",
    "import matplotlib.pyplot as plt\n",
    "\n",
    "paises_df = pd.read_csv('paises.csv', delimiter=';')\n",
    "\n",
    "america_norte = paises_df[paises_df['Region'].str.contains('NORTHERN AMERICA', na=False)]\n",
    "\n",
    "plt.subplot(1, 2, 1)\n",
    "plt.title('Natalidade')\n",
    "plt.plot(america_norte['Birthrate'], america_norte['Country'], 's:r')\n",
    "plt.subplot(1, 2, 2)\n",
    "plt.title('Mortalidade')\n",
    "plt.plot(america_norte['Deathrate'], america_norte['Country'], 'o--b')"
   ]
  },
  {
   "cell_type": "markdown",
   "id": "4f76684a",
   "metadata": {},
   "source": [
    "2. Por meio do dataset space.csv, trace um gráfico em barras\n",
    "mostrando quantas empresas espaciais diferentes os EUA e a CHINA\n",
    "possuem;\n",
    "Dica: não se esqueça de retirar os resultados repetidos"
   ]
  },
  {
   "cell_type": "code",
   "execution_count": null,
   "id": "6a77b635",
   "metadata": {},
   "outputs": [],
   "source": [
    "space_df = pd.read_csv('space.csv', delimiter=';')\n",
    "\n",
    "empresas_eua = space_df[space_df['Location'].str.contains('USA', na=False)]['Company Name'].unique()\n",
    "empresas_china = space_df[space_df['Location'].str.contains('China', na=False)]['Company Name'].unique()\n",
    "\n",
    "dados = {'EUA': len(empresas_eua), 'China': len(empresas_china)}\n",
    "\n",
    "plt.figure(figsize=(6, 4))\n",
    "plt.bar(dados.keys(), dados.values(), color=['blue', 'red'])\n",
    "\n",
    "plt.xlabel('País')\n",
    "plt.ylabel('Número de Empresas')\n",
    "plt.title('Número de Empresas Espaciais nos EUA e na China')\n",
    "plt.show()"
   ]
  },
  {
   "cell_type": "markdown",
   "id": "d9b552f4",
   "metadata": {},
   "source": [
    "3. Por meio do dataset space.csv, trace um gráfico em torta\n",
    "ilustrando a porcentagem de missões da empresa Roscosmos que\n",
    "deram certo e que deram errado;"
   ]
  },
  {
   "cell_type": "code",
   "execution_count": null,
   "id": "37cb6d4a",
   "metadata": {},
   "outputs": [],
   "source": [
    "roscosmos_df = space_df[space_df['Company Name'].str.contains('Roscosmos', na=False)]\n",
    "\n",
    "sucesso = roscosmos_df[roscosmos_df['Status Mission'] == 'Success'].shape[0]\n",
    "falha = roscosmos_df[roscosmos_df['Status Mission'] != 'Success'].shape[0]\n",
    "\n",
    "plt.figure(figsize=(6, 6))\n",
    "plt.pie([sucesso, falha], labels=['Sucesso', 'Falha'], autopct='%1.1f%%', colors=['green', 'red'], startangle=90)\n",
    "\n",
    "plt.title('Taxa de Sucesso das Missões da Roscosmos')\n",
    "plt.show()"
   ]
  }
 ],
 "metadata": {
  "kernelspec": {
   "display_name": "Python 3 (myenv)",
   "language": "python",
   "name": "myenv"
  },
  "language_info": {
   "codemirror_mode": {
    "name": "ipython",
    "version": 3
   },
   "file_extension": ".py",
   "mimetype": "text/x-python",
   "name": "python",
   "nbconvert_exporter": "python",
   "pygments_lexer": "ipython3",
   "version": "3.13.0"
  }
 },
 "nbformat": 4,
 "nbformat_minor": 5
}
