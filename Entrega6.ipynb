{
 "cells": [
  {
   "cell_type": "markdown",
   "metadata": {},
   "source": [
    "1. Carregue o Dataset paises.csv e em seguida mostre:\n",
    "a.Quais são os países da OCEANIA;\n",
    "b.Quantos países são da OCEANIA;\n",
    "Dica: para busca de padrões textuais no Pandas, use métodos da subclasse str da\n",
    "Series. Ex: series.str.contains(‘texto’)"
   ]
  },
  {
   "cell_type": "code",
   "execution_count": 24,
   "metadata": {},
   "outputs": [
    {
     "name": "stdout",
     "output_type": "stream",
     "text": [
      "Países da Oceania:\n",
      "3            American Samoa \n",
      "11                Australia \n",
      "47             Cook Islands \n",
      "67                     Fiji \n",
      "71         French Polynesia \n",
      "83                     Guam \n",
      "108                Kiribati \n",
      "130        Marshall Islands \n",
      "136    Micronesia, Fed. St. \n",
      "144                   Nauru \n",
      "148           New Caledonia \n",
      "149             New Zealand \n",
      "153      N. Mariana Islands \n",
      "157                   Palau \n",
      "159        Papua New Guinea \n",
      "176                   Samoa \n",
      "187         Solomon Islands \n",
      "203                   Tonga \n",
      "209                  Tuvalu \n",
      "217                 Vanuatu \n",
      "221       Wallis and Futuna \n",
      "Name: Country, dtype: object\n",
      "Número de países da Oceania: 21\n"
     ]
    }
   ],
   "source": [
    "import pandas as pd\n",
    "\n",
    "file_path = 'paises.csv'\n",
    "paises = pd.read_csv(file_path, delimiter=';', encoding='utf-8')\n",
    "\n",
    "oceania = paises[paises['Region'].str.contains('OCEANIA', case=False, na=False)]\n",
    "print(\"Países da Oceania:\")\n",
    "print(oceania['Country'])\n",
    "\n",
    "print(f\"Número de países da Oceania: {oceania.shape[0]}\")"
   ]
  },
  {
   "cell_type": "markdown",
   "metadata": {},
   "source": [
    "2. Encontre o nome e a região do país que possui a maior população segundo este\n",
    "Dataset\n",
    ";"
   ]
  },
  {
   "cell_type": "code",
   "execution_count": 25,
   "metadata": {},
   "outputs": [
    {
     "name": "stdout",
     "output_type": "stream",
     "text": [
      "País com maior população:\n",
      "Country                           China \n",
      "Region     ASIA (EX. NEAR EAST)         \n",
      "Name: 42, dtype: object\n"
     ]
    }
   ],
   "source": [
    "maiorPopulacao = paises.loc[paises['Population'].idxmax(), ['Country', 'Region']]\n",
    "print(\"País com maior população:\")\n",
    "print(maiorPopulacao)"
   ]
  },
  {
   "cell_type": "markdown",
   "metadata": {},
   "source": [
    "3. Agrupe os países por Regiões. Em seguida, mostre a média de alfabetização (Literacy (%)) de cada região do planeta;"
   ]
  },
  {
   "cell_type": "code",
   "execution_count": 26,
   "metadata": {},
   "outputs": [
    {
     "name": "stdout",
     "output_type": "stream",
     "text": [
      "Média de alfabetização de cada região do planeta:\n",
      "Region\n",
      "ASIA (EX. NEAR EAST)                   79.55\n",
      "BALTICS                                99.73\n",
      "C.W. OF IND. STATES                    98.72\n",
      "EASTERN EUROPE                         72.82\n",
      "LATIN AMER. & CARIB                    88.64\n",
      "NEAR EAST                              69.58\n",
      "NORTHERN AFRICA                        56.03\n",
      "NORTHERN AMERICA                       78.20\n",
      "OCEANIA                                71.91\n",
      "SUB-SAHARAN AFRICA                     61.28\n",
      "WESTERN EUROPE                         80.82\n",
      "Name: Literacy (%), dtype: float64\n"
     ]
    }
   ],
   "source": [
    "alfabetizacao = paises.groupby('Region')['Literacy (%)'].mean().round(2)\n",
    "print(\"Média de alfabetização de cada região do planeta:\")\n",
    "print(alfabetizacao)"
   ]
  },
  {
   "cell_type": "markdown",
   "metadata": {},
   "source": [
    "4. Busque o nome de todos os países do Dataset que não possuem costa marítima (Coastline (coast/area ratio) == 0) e guarde-os em um novo arquivo chamado\n",
    "noCoast.csv;"
   ]
  },
  {
   "cell_type": "code",
   "execution_count": 27,
   "metadata": {},
   "outputs": [],
   "source": [
    "semCosta = paises[paises['Coastline (coast/area ratio)'] == 0]\n",
    "semCosta[['Country']].to_csv('noCoast.csv', index=False)"
   ]
  },
  {
   "cell_type": "markdown",
   "metadata": {},
   "source": [
    "5. Faça uma função que receba a taxa de mortalidade de cada país (Deathrate) e\n",
    "retorne o texto ‘Balanced’ caso o valor seja < 9 e ‘Urgent’ caso contrário. Em\n",
    "seguida, crie um campo no Dataset chamado ‘Humanitarian Help’ que receba estes\n",
    "valores para cada país. No final, mostre o Dataset para verificar se a inserção da nova\n",
    "coluna foi feita com sucesso."
   ]
  },
  {
   "cell_type": "code",
   "execution_count": 28,
   "metadata": {},
   "outputs": [
    {
     "name": "stdout",
     "output_type": "stream",
     "text": [
      "Dataset atualizado:\n",
      "           Country                               Region  Population  \\\n",
      "0     Afghanistan         ASIA (EX. NEAR EAST)             31056997   \n",
      "1         Albania   EASTERN EUROPE                          3581655   \n",
      "2         Algeria   NORTHERN AFRICA                        32930091   \n",
      "3  American Samoa   OCEANIA                                   57794   \n",
      "4         Andorra   WESTERN EUROPE                            71201   \n",
      "\n",
      "   Area (sq. mi.)  Pop. Density (per sq. mi.)  Coastline (coast/area ratio)  \\\n",
      "0          647500                        48.0                          0.00   \n",
      "1           28748                       124.6                          1.26   \n",
      "2         2381740                        13.8                          0.04   \n",
      "3             199                       290.4                         58.29   \n",
      "4             468                       152.1                          0.00   \n",
      "\n",
      "   Net migration  Infant mortality (per 1000 births)  GDP ($ per capita)  \\\n",
      "0          23.06                              163.07                 700   \n",
      "1          -4.93                               21.52                4500   \n",
      "2          -0.39                               31.00                6000   \n",
      "3         -20.71                                9.27                8000   \n",
      "4           6.60                                4.05               19000   \n",
      "\n",
      "   Literacy (%)  ...  Arable (%)  Crops (%)  Other (%)  Climate  Birthrate  \\\n",
      "0          36.0  ...       12.13       0.22      87.65      1.0      46.60   \n",
      "1          86.5  ...       21.09       4.42      74.49      3.0      15.11   \n",
      "2          70.0  ...        3.22       0.25      96.53      1.0      17.14   \n",
      "3          97.0  ...       10.00      15.00      75.00      2.0      22.46   \n",
      "4         100.0  ...        2.22       0.00      97.78      3.0       8.71   \n",
      "\n",
      "   Deathrate  Agriculture  Industry  Service  Humanitarian Help  \n",
      "0      20.34        0.380     0.240    0.380             Urgent  \n",
      "1       5.22        0.232     0.188    0.579           Balanced  \n",
      "2       4.61        0.101     0.600    0.298           Balanced  \n",
      "3       3.27        0.000     0.000    0.000           Balanced  \n",
      "4       6.25        0.000     0.000    0.000           Balanced  \n",
      "\n",
      "[5 rows x 21 columns]\n"
     ]
    }
   ],
   "source": [
    "def Mortalidade(mortalidade):\n",
    "    return 'Balanced' if mortalidade < 9 else 'Urgent'\n",
    "\n",
    "paises['Humanitarian Help'] = paises['Deathrate'].apply(Mortalidade)\n",
    "print(\"Dataset atualizado:\")\n",
    "print(paises.head())"
   ]
  }
 ],
 "metadata": {
  "kernelspec": {
   "display_name": "Python 3 (myenv)",
   "language": "python",
   "name": "myenv"
  },
  "language_info": {
   "codemirror_mode": {
    "name": "ipython",
    "version": 3
   },
   "file_extension": ".py",
   "mimetype": "text/x-python",
   "name": "python",
   "nbconvert_exporter": "python",
   "pygments_lexer": "ipython3",
   "version": "3.13.0"
  }
 },
 "nbformat": 4,
 "nbformat_minor": 2
}
