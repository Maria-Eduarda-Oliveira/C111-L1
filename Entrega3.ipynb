{
 "cells": [
  {
   "cell_type": "markdown",
   "metadata": {},
   "source": [
    "1. Crie dois NumPy Arrays unidimensionais de tamanho\n",
    "8\n",
    ": um formado apenas\n",
    "por\n",
    "1’s\n",
    "e outro formado por números aleatórios entre\n",
    "0\n",
    "e\n",
    "9\n",
    ". Some estes dois\n",
    "NumPy Arrays\n",
    "e guarde\n",
    "o resultado dentro de um terceiro NumPy Array. Por\n",
    "fim, faça\n",
    "o seguinte\n",
    ":\n",
    "a. Se\n",
    "a soma de todos os elementos do Array resultante for >= 40\n",
    ", remodele este\n",
    "NumPy Array para se tornar uma matriz com mais linhas do que colunas\n",
    ". Senão,\n",
    "remodele para que se torne uma matriz com mais colunas do que linhas\n",
    ".\n"
   ]
  },
  {
   "cell_type": "code",
   "execution_count": null,
   "metadata": {},
   "outputs": [],
   "source": [
    "import numpy as np\n",
    "\n",
    "array1 = np.ones(8, dtype=int)\n",
    "array = np.random.randint(0, 10, 8)\n",
    "\n",
    "final = array1 + array\n",
    "soma_total = np.sum(final)\n",
    "\n",
    "if soma_total >= 40:\n",
    "    resultado = final.reshape(4, 2)  # Mais linhas do que colunas\n",
    "else:\n",
    "    resultado = final.reshape(2, 4)  # Mais colunas do que linhas\n",
    "\n",
    "print('Array de 1s: ', array1)\n",
    "print('Array aleatório: ', array)\n",
    "print('Array resultante: ', final)\n",
    "print('Matriz resultante: ')\n",
    "print(resultado)"
   ]
  },
  {
   "cell_type": "markdown",
   "metadata": {},
   "source": [
    "2\n",
    ". Crie dois NumPy Arrays unidimensionais\n",
    ": um de números pares de\n",
    "0\n",
    "à 51\n",
    "e\n",
    "outro também de números pares de 100 até 50\n",
    ". Em seguida, os concatene\n",
    "e\n",
    "mostre os resultados ordenados "
   ]
  },
  {
   "cell_type": "code",
   "execution_count": null,
   "metadata": {},
   "outputs": [],
   "source": [
    "array1 = np.arange(0, 52, 2)\n",
    "array2 = np.arange(100, 51, -2)\n",
    "\n",
    "concatenado = np.concatenate((array1, array2))\n",
    "ordenado = np.sort(concatenado)\n",
    "\n",
    "print('Resultado: ', ordenado)"
   ]
  },
  {
   "cell_type": "markdown",
   "metadata": {},
   "source": [
    "3. Mini Campo Minado\n",
    "a) Crie um NumPy Array\n",
    "2\n",
    "x\n",
    "2 formado apenas por\n",
    "0’s\n",
    "b) Em seguida, adicione um número\n",
    "1 em uma posição aleatória desta matriz\n",
    ";\n",
    "c) Faça uma entrada de dados para solicitar\n",
    "o usuário que faça uma jogada\n",
    "(selecione uma posição da matriz)\n",
    "I. Se ele selecionar todas as posições em que\n",
    "o número\n",
    "1 não se encontra, mostre\n",
    "a\n",
    "mensagem\n",
    "“Congratulations\n",
    "! You beat the game!\n",
    ":\n",
    ")\n",
    "”\n",
    "II. Senão, se dentro das\n",
    "3 primeiras jogadas ele achar\n",
    "o número\n",
    "1\n",
    ", mostre\n",
    "a mensagem\n",
    "“Game Over!\n",
    ":\n",
    "( Try Again!\n",
    "”\n"
   ]
  },
  {
   "cell_type": "code",
   "execution_count": null,
   "metadata": {},
   "outputs": [],
   "source": [
    "array = np.zeros((2, 2), dtype=int) #a\n",
    "\n",
    "posicao = tuple(np.random.randint(0, 2, 2)) #b\n",
    "array[posicao] = 1\n",
    "\n",
    "tentativas = 3 #c\n",
    "\n",
    "for tentativa in range(tentativas):\n",
    "    linha = int(input('Escolha a linha (0 ou 1): '))\n",
    "    coluna = int(input('Escolha a coluna (0 ou 1): '))\n",
    "    \n",
    "    if array[linha, coluna] == 1:\n",
    "        print('Game Over! :( Try Again!')\n",
    "        break\n",
    "    else:\n",
    "        print('Try Again!')\n",
    "else:\n",
    "    print('Congratulations! You beat the game! :)')"
   ]
  },
  {
   "cell_type": "markdown",
   "metadata": {},
   "source": [
    "4. Crie uma matriz de tamanho qualquer. Extraia seu número de linhas\n",
    "e\n",
    "colunas, multiplique\n",
    "-os,\n",
    "e diga se esta matriz poderia se tornar um vetor\n",
    "unidimensional com número par ou ímpar de elementos"
   ]
  },
  {
   "cell_type": "code",
   "execution_count": null,
   "metadata": {},
   "outputs": [],
   "source": [
    "linhas = np.random.randint(2, 10)\n",
    "colunas = np.random.randint(2, 10)\n",
    "matriz = np.random.randint(0, 10, (linhas, colunas))\n",
    "\n",
    "num_elementos = linhas * colunas\n",
    "\n",
    "vetor = \"par\" if num_elementos % 2 == 0 else \"ímpar\"\n",
    "\n",
    "print(f\"A matriz tem {linhas} linhas e {colunas} colunas.\")\n",
    "print(f\"Número total de elementos: {num_elementos}\")\n",
    "print(f\"Se transformada em vetor unidimensional, teria um número {vetor} de elementos.\")"
   ]
  },
  {
   "cell_type": "markdown",
   "metadata": {},
   "source": [
    "5. Crie uma matriz de tamanho 4x4 formada por números aleatórios inteiros\n",
    "entre\n",
    "1\n",
    "e 50 (use seed\n",
    "= 10 antes)\n",
    "a) Mostre\n",
    "o resultado da média de cada linha\n",
    "e cada coluna da matriz\n",
    "gerada\n",
    "b) Apresente\n",
    "o maior valor das médias das linhas\n",
    "e também das colunas\n",
    "c) Mostre\n",
    "a quantidade de aparições de cada um dos números gerados na\n",
    "matriz\n",
    ". Em seguida, mostre apenas os números que aparecem\n",
    "2 vezes\n"
   ]
  },
  {
   "cell_type": "code",
   "execution_count": null,
   "metadata": {},
   "outputs": [],
   "source": [
    "from collections import Counter\n",
    "\n",
    "np.random.seed(10)\n",
    "matriz = np.random.randint(1, 51, (4, 4))\n",
    "\n",
    "media_linhas = matriz.mean(axis=1)\n",
    "media_colunas = matriz.mean(axis=0)\n",
    "\n",
    "maior_media_linhas = media_linhas.max()\n",
    "maior_media_colunas = media_colunas.max()\n",
    "\n",
    "contador = Counter(matriz.flatten())\n",
    "\n",
    "numeros_2_vezes = {int(k): v for k, v in contador.items() if v == 2}\n",
    "\n",
    "print('Matriz: ', matriz)\n",
    "print('\\nMédia das linhas: ', media_linhas)\n",
    "print('Média das colunas: ', media_colunas)\n",
    "print('\\nMaior média das linhas: ', maior_media_linhas)\n",
    "print('Maior média das colunas: ', maior_media_colunas)\n",
    "print('\\nContagem das aparições: ', {int(k): v for k, v in contador.items()})\n",
    "print('Números que aparecem 2 vezes: ', numeros_2_vezes)"
   ]
  }
 ],
 "metadata": {
  "kernelspec": {
   "display_name": "Python 3 (myenv)",
   "language": "python",
   "name": "myenv"
  },
  "language_info": {
   "codemirror_mode": {
    "name": "ipython",
    "version": 3
   },
   "file_extension": ".py",
   "mimetype": "text/x-python",
   "name": "python",
   "nbconvert_exporter": "python",
   "pygments_lexer": "ipython3",
   "version": "3.13.0"
  }
 },
 "nbformat": 4,
 "nbformat_minor": 2
}
