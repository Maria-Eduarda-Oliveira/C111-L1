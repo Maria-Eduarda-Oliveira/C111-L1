{
 "cells": [
  {
   "cell_type": "markdown",
   "metadata": {},
   "source": [
    "1. Crie uma lista preenchida com os\n",
    "5 primeiros colocados de um\n",
    "Campeonato de Futebol, na ordem de colocação\n",
    ". Depois mostre\n",
    ":\n",
    "a. Apenas os\n",
    "3 primeiros colocados\n",
    ";\n",
    "b. Os últimos\n",
    "2 colocados\n",
    ";\n",
    "c. Uma lista com os times em ordem alfabética\n",
    ";\n",
    "d. Em que posição da tabela se encontra\n",
    "o Barcelona\n",
    ";"
   ]
  },
  {
   "cell_type": "code",
   "execution_count": null,
   "metadata": {},
   "outputs": [],
   "source": [
    "times = ['PSG', 'Barcelona', 'Real Madri', 'Liverpool', 'Chelsea']\n",
    "print(times[:3])\n",
    "print(times[-2:])\n",
    "print(sorted(times))\n",
    "print('Posição do time Barcelona: ', times.index('Barcelona') + 1) #ele está no indice 1, mas na segunda posição da lista"
   ]
  },
  {
   "cell_type": "markdown",
   "metadata": {},
   "source": [
    "2. Crie dois conjuntos, um para cada loja\n",
    ". Identifique quais modelos de\n",
    "smartphones cada uma delas vendem\n",
    ". Em seguida, mostre quais\n",
    "modelos no total você terá opção de comprar se visita-las\n",
    "e quais\n",
    "modelos se encontram disponíveis em ambas as lojas\n",
    ";\n"
   ]
  },
  {
   "cell_type": "code",
   "execution_count": null,
   "metadata": {},
   "outputs": [],
   "source": [
    "loja1 = {'A20', 'A21', 'Iphone'}\n",
    "loja2 = {'MotoG', 'S20', 'A21', 'Iphone'}\n",
    "\n",
    "print('Modelos totais: ', loja1 | loja2) #união dos dois conjuntos\n",
    "print('Modelos disponíveis nas duas lojas: ', loja1 & loja2) #intersecção dos dois conjuntos"
   ]
  },
  {
   "cell_type": "markdown",
   "metadata": {},
   "source": [
    "3. Faça um programa que leia o nome e a média de um aluno e guarde-os em um dicionário. Em seguida, a partir da média (para ser aprovado deve ter média >=50), gere a situação final do aluno (‘AP’ ou ‘RP’), que também deve ser guardada neste dicionário. No final,\n",
    "mostre todo o conteúdo deste dicionário;\n"
   ]
  },
  {
   "cell_type": "code",
   "execution_count": null,
   "metadata": {},
   "outputs": [],
   "source": [
    "nome = input('Digite o nome do aluno: ')\n",
    "media = float(input('Digite a média do aluno: '))\n",
    "\n",
    "final = \"AP\" if media >= 50 else \"RP\"\n",
    "\n",
    "aluno = {\n",
    "    'Nome': nome,\n",
    "    'Média': media,\n",
    "    'Situação final': final\n",
    "}\n",
    "\n",
    "for chave, valor in aluno.items():\n",
    "    print(f\"{chave}: {valor}\")"
   ]
  },
  {
   "cell_type": "markdown",
   "metadata": {},
   "source": [
    "4. Faça um programa que leia o nome e peso de\n",
    "3 pessoas\n",
    "e no final\n",
    "mostre\n",
    "o nome da pessoa mais pesada\n",
    "e\n",
    "a mais leve\n",
    ";\n"
   ]
  },
  {
   "cell_type": "code",
   "execution_count": null,
   "metadata": {},
   "outputs": [],
   "source": [
    "pessoas = []\n",
    "\n",
    "for i in range(3):\n",
    "    nome = input(f\"Digite o nome da {i+1}ª pessoa: \")\n",
    "    peso = float(input(f\"Digite o peso de {nome}: \"))\n",
    "    pessoas.append((nome, peso))\n",
    "\n",
    "\n",
    "pesada = max(pessoas, key=lambda x: x[1])\n",
    "leve = min(pessoas, key=lambda x: x[1])\n",
    "\n",
    "print(f\"\\nPessoa mais pesada: {pesada[0]} com {pesada[1]} kg\")\n",
    "print(f\"Pessoa mais leve: {leve[0]} com {leve[1]} kg\")"
   ]
  },
  {
   "cell_type": "markdown",
   "metadata": {},
   "source": [
    "5\n",
    ". Desenvolva um programa que leia\n",
    "o nome, idade\n",
    "e sexo de\n",
    "n pessoas\n",
    ".\n",
    "No final, mostre\n",
    ":\n",
    "a.\n",
    "A média de idade do grupo\n",
    ";\n",
    "b. Quantas mulheres têm menos de 20 anos\n",
    "."
   ]
  },
  {
   "cell_type": "code",
   "execution_count": null,
   "metadata": {},
   "outputs": [],
   "source": [
    "pessoas = []\n",
    "soma = 0\n",
    "mulheres = 0\n",
    "\n",
    "n = int(input('Digite o total de pessoas: '))\n",
    "\n",
    "for i in range(n):\n",
    "    print(f\"\\nPessoa {i+1}:\")\n",
    "    nome = input(\"Nome: \")\n",
    "    idade = int(input(\"Idade: \"))\n",
    "    sexo = input(\"Sexo (M/F): \").strip().upper()\n",
    "    \n",
    "    pessoas.append({\"Nome\": nome, \"Idade\": idade, \"Sexo\": sexo})\n",
    "    soma += idade\n",
    "    \n",
    "    if sexo == \"F\" and idade < 20:\n",
    "        mulheres += 1\n",
    "\n",
    "media_idade = soma / n\n",
    "\n",
    "print(f\"\\nA média de idade do grupo é: {media_idade:.2f} anos\")\n",
    "print(f\"Quantidade de mulheres com menos de 20 anos: {mulheres}\")"
   ]
  }
 ],
 "metadata": {
  "kernelspec": {
   "display_name": "Python 3 (myenv)",
   "language": "python",
   "name": "myenv"
  },
  "language_info": {
   "codemirror_mode": {
    "name": "ipython",
    "version": 3
   },
   "file_extension": ".py",
   "mimetype": "text/x-python",
   "name": "python",
   "nbconvert_exporter": "python",
   "pygments_lexer": "ipython3",
   "version": "3.13.0"
  }
 },
 "nbformat": 4,
 "nbformat_minor": 2
}
