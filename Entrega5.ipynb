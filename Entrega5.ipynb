{
 "cells": [
  {
   "cell_type": "markdown",
   "metadata": {},
   "source": [
    "1 . Crie duas Series com os seguintes valores: • seriesAno1: {‘Java’: 16.25, ‘C’: 16.04, ‘Python’\n",
    ":\n",
    "9\n",
    ".85\n",
    "}\n",
    "• seriesAno\n",
    "2\n",
    ": {‘C’\n",
    ": 16\n",
    ".21\n",
    ", ‘Python’\n",
    ": 12\n",
    ".12\n",
    ", ‘Java’\n",
    ": 11\n",
    ".68\n",
    "}"
   ]
  },
  {
   "cell_type": "code",
   "execution_count": null,
   "metadata": {},
   "outputs": [],
   "source": [
    "import pandas as pd\n",
    "import numpy as np\n",
    "\n",
    "seriesAno1 = pd.Series({'Java': 16.25, 'C': 16.04, 'Python': 9.85})\n",
    "seriesAno2 = pd.Series({'C': 16.21, 'Python': 12.12, 'Java': 11.68})"
   ]
  },
  {
   "cell_type": "markdown",
   "metadata": {},
   "source": [
    "2\n",
    ". Os valores das Series criadas na Questão\n",
    "1 representam as fatias de\n",
    "mercado (porcentagem) de\n",
    "3 linguagens de programação populares em\n",
    "dois anos consecutivos\n",
    ". Para cada ano, apresente\n",
    "a porcentagem total que\n",
    "elas juntas representam no mercado\n",
    ";"
   ]
  },
  {
   "cell_type": "code",
   "execution_count": null,
   "metadata": {},
   "outputs": [],
   "source": [
    "total1 = seriesAno1.sum()\n",
    "total2 = seriesAno2.sum()\n",
    "print(f\"Total de mercado no Ano 1: {total1}%\")\n",
    "print(f\"Total de mercado no Ano 2: {total2}%\")"
   ]
  },
  {
   "cell_type": "markdown",
   "metadata": {},
   "source": [
    "3\n",
    ". Apresente\n",
    "o crescimento/declínio no mercado de cada linguagem do\n",
    "primeiro ano para\n",
    "o segundo ano\n",
    ";"
   ]
  },
  {
   "cell_type": "code",
   "execution_count": null,
   "metadata": {},
   "outputs": [],
   "source": [
    "declinio = seriesAno2 - seriesAno1\n",
    "print(\"Declínio do primeiro ano para o segundo: \")\n",
    "print(declinio)"
   ]
  },
  {
   "cell_type": "markdown",
   "metadata": {},
   "source": [
    "4\n",
    ". Baseado nos resultados da Questão\n",
    "3\n",
    ", mostre apenas os dados das\n",
    "linguagens que tiveram crescimento\n",
    ";"
   ]
  },
  {
   "cell_type": "code",
   "execution_count": null,
   "metadata": {},
   "outputs": [],
   "source": [
    "crescimento = declinio[declinio > 0]\n",
    "print(\"Linguagens que tiveram crescimento: \")\n",
    "print(crescimento)"
   ]
  },
  {
   "cell_type": "markdown",
   "metadata": {},
   "source": [
    "5\n",
    ". Se estas porcentagens de crescimento/declínio se mantivessem iguais\n",
    "para os próximos\n",
    "2 anos, qual seria\n",
    "a linguagem mais popular?\n",
    "Dica\n",
    ": use\n",
    "o método nlargest\n",
    "(\n",
    "1\n",
    ") no final para retornar rapidamente\n",
    "a label\n",
    "e maior valor de uma Series\n",
    ".\n"
   ]
  },
  {
   "cell_type": "code",
   "execution_count": null,
   "metadata": {},
   "outputs": [],
   "source": [
    "# 5. Projeção para dois anos\n",
    "seriesAno3 = seriesAno2 + declinio\n",
    "seriesAno4 = seriesAno3 + declinio\n",
    "popular = seriesAno4.nlargest(1)\n",
    "print(f\"Linguagem mais popular: {popular}\")"
   ]
  },
  {
   "cell_type": "markdown",
   "metadata": {},
   "source": [
    "6 . Utilizando do DataFrame exemplo do tópico 5.3 deste material, calcule a\n",
    "média dos elementos da coluna X que são menores que 30;\n"
   ]
  },
  {
   "cell_type": "code",
   "execution_count": null,
   "metadata": {},
   "outputs": [],
   "source": [
    "DataFrame = {\n",
    "    'W': [10, 29, 30, 43, 37],\n",
    "    'X': [37, 26, 9, 41, 48],\n",
    "    'Y': [16, 30, 10, 37, 12],\n",
    "    'Z': [1, 49, 1, 17, 25]\n",
    "}\n",
    "df = pd.DataFrame(DataFrame, index=['A', 'B', 'C', 'D', 'E'])\n",
    "\n",
    "mediaX = df[df['X'] < 30]['X'].mean()\n",
    "print(f\"Média dos elementos da coluna X  que são menores que 30: {mediaX}\")"
   ]
  },
  {
   "cell_type": "markdown",
   "metadata": {},
   "source": [
    "7 . Utilizando do mesmo DataFrame, apresente a média dos elementos da\n",
    "linha D usando a função loc() como base e a soma dos elementos da linha E\n",
    "usando a função iloc() como base;\n"
   ]
  },
  {
   "cell_type": "code",
   "execution_count": null,
   "metadata": {},
   "outputs": [],
   "source": [
    "mediaD = df.loc['D'].mean()\n",
    "somaE = df.iloc[4].sum()\n",
    "print(f\"Média dos elementos da linha D: {mediaD}\")\n",
    "print(f\"Soma dos elementos da linha E: {somaE}\")"
   ]
  },
  {
   "cell_type": "markdown",
   "metadata": {},
   "source": [
    "8 . Faça um Slicing na matriz mostrando apenas as linhas A, C e E\n",
    "juntamente com as colunas X e Y. Em seguida, mostre qual seria a soma dos\n",
    "elementos de cada uma destas linhas e cada uma destas colunas.\n"
   ]
  },
  {
   "cell_type": "code",
   "execution_count": null,
   "metadata": {},
   "outputs": [],
   "source": [
    "slicing = df.loc[['A', 'C', 'E'], ['X', 'Y']]\n",
    "print(\"Slicing das linhas A, C, E com as colunas X e Y:\")\n",
    "print(slicing)\n",
    "\n",
    "soma_linhas = slicing.sum(axis=1)\n",
    "soma_colunas = slicing.sum()\n",
    "print(\"Soma dos elementos de cada linha:\")\n",
    "print(soma_linhas)\n",
    "print(\"Soma dos elementos de cada coluna:\")\n",
    "print(soma_colunas)"
   ]
  }
 ],
 "metadata": {
  "kernelspec": {
   "display_name": "Python 3 (myenv)",
   "language": "python",
   "name": "myenv"
  },
  "language_info": {
   "codemirror_mode": {
    "name": "ipython",
    "version": 3
   },
   "file_extension": ".py",
   "mimetype": "text/x-python",
   "name": "python",
   "nbconvert_exporter": "python",
   "pygments_lexer": "ipython3",
   "version": "3.13.0"
  }
 },
 "nbformat": 4,
 "nbformat_minor": 2
}
