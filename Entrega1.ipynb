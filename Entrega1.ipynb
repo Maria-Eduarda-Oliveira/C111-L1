{
 "cells": [
  {
   "cell_type": "markdown",
   "metadata": {},
   "source": [
    "1) Crie um programa que leia seu nome completo e mostre:\n",
    "• Seu nome com todas as letras maiúsculas\n",
    "• Seu nome com todas as letras minúsculas\n",
    "• Quantas letras ao todo tem seu nome\n",
    "• E como seria se trocássemos seu último nome para “do Inatel”"
   ]
  },
  {
   "cell_type": "code",
   "execution_count": null,
   "metadata": {},
   "outputs": [],
   "source": [
    "nome = input('Digite o seu nome: ')\n",
    "print(nome.upper()) #deixa todas as letras maiusculas\n",
    "print(nome.lower()) #deixa todas as letras minusculas\n",
    "print(len(nome.replace(\" \", \"\"))) #primeiro tira os espaços e depois conta as letras\n",
    "\n",
    "partesNome = nome.split() #separa os nomes em partes\n",
    "partesNome[-1] = \"do Inatel\" #o -1 pega a última parte e troca por 'do Inatel'\n",
    "nome = \" \".join(partesNome) #junta as partes de novo\n",
    "print(nome)"
   ]
  },
  {
   "cell_type": "markdown",
   "metadata": {},
   "source": [
    "2. Mostre a tabuada de um número que o usuário escolher dentro de um\n",
    "intervalo específico também escolhido por ele"
   ]
  },
  {
   "cell_type": "code",
   "execution_count": null,
   "metadata": {},
   "outputs": [],
   "source": [
    "numero = int(input('Digite um número: '))\n",
    "comeco = int(input('Digite o começo do intervalo: '))\n",
    "fim = int(input('Digite o fim do intervalo: '))\n",
    "\n",
    "print('Tabuada do {} de {} até {}: '.format(numero,comeco,fim))\n",
    "for i in range(comeco, fim + 1):\n",
    "    print(f'{numero} x {i} = {numero * i}')"
   ]
  },
  {
   "cell_type": "markdown",
   "metadata": {},
   "source": [
    "3. Faça um programa que leia o sexo de uma pessoa e diga se ela é homem (caso seja digitado M) ou mulher (caso seja digitado F). Caso\n",
    "seja digitado algo inválido, continue perguntando até que o usuário entre com um sexo válido."
   ]
  },
  {
   "cell_type": "code",
   "execution_count": null,
   "metadata": {},
   "outputs": [],
   "source": [
    "while True:\n",
    "    sexo = input('Digite o sexo (M ou F): ').upper()\n",
    "\n",
    "    if sexo == 'M':\n",
    "        print('Você é um homem')\n",
    "        break\n",
    "    elif sexo == 'F':\n",
    "        print('Você é uma mulher')\n",
    "        break\n",
    "    else:\n",
    "        print('Entrada inválida. Digite novamente: ')\n"
   ]
  },
  {
   "cell_type": "markdown",
   "metadata": {},
   "source": [
    "4. Desenvolva um script que pergunte a distância de uma viagem em Km. Calcule o preço da passagem, cobrando R$ 0.50 por Km para viagens até 200Km e R$ 0.45 para viagens mais longas."
   ]
  },
  {
   "cell_type": "code",
   "execution_count": null,
   "metadata": {},
   "outputs": [],
   "source": [
    "distancia = float(input('Digite a distância da viagem: '))\n",
    "if distancia <= 200:\n",
    "    preco = distancia * 0.50\n",
    "else:\n",
    "    preco = distancia * 0.45\n",
    "print(f'Preço: R${preco:.2f}')"
   ]
  },
  {
   "cell_type": "markdown",
   "metadata": {},
   "source": [
    "5. Faça um programa que leia um número entre 1000 e 9999 e mostre na tela \n",
    "• qual o número da unidade\n",
    "• número da dezena \n",
    "• número da centena \n",
    "• E número do milhar"
   ]
  },
  {
   "cell_type": "code",
   "execution_count": null,
   "metadata": {},
   "outputs": [],
   "source": [
    "numero = int(input('Digite um número entre 1000 e 9999: '))\n",
    "\n",
    "print(numero)\n",
    "print(f'Unidade: {numero % 10}')\n",
    "print(f'Dezena: {(numero // 10) % 10}')\n",
    "print(f'Centena: {(numero // 100) % 10}')\n",
    "print(f'Milhar: {(numero // 1000) % 10}')"
   ]
  },
  {
   "cell_type": "markdown",
   "metadata": {},
   "source": [
    "6. Peça ao usuário para entrar com um número decimal. Em seguida, aplique e mostre o resultado:\n",
    "• da raiz quadrada deste número • função teto • função chão • sua parte inteira"
   ]
  },
  {
   "cell_type": "code",
   "execution_count": null,
   "metadata": {},
   "outputs": [],
   "source": [
    "import math\n",
    "numero = float(input('Digite um número decimal: '))\n",
    "\n",
    "print(numero)\n",
    "print(f'Raiz quadrada: {math.sqrt(numero):.2f}')\n",
    "print(f'Função teto: {math.ceil(numero)}')\n",
    "print(f'Função chão: {math.floor(numero)}')\n",
    "print(f'Parte inteira: {int(numero)}')"
   ]
  }
 ],
 "metadata": {
  "kernelspec": {
   "display_name": "Python 3 (myenv)",
   "language": "python",
   "name": "myenv"
  },
  "language_info": {
   "codemirror_mode": {
    "name": "ipython",
    "version": 3
   },
   "file_extension": ".py",
   "mimetype": "text/x-python",
   "name": "python",
   "nbconvert_exporter": "python",
   "pygments_lexer": "ipython3",
   "version": "3.13.0"
  }
 },
 "nbformat": 4,
 "nbformat_minor": 2
}
