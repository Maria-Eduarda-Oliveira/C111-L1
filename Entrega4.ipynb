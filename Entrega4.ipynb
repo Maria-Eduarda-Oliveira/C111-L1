{
 "cells": [
  {
   "cell_type": "markdown",
   "metadata": {},
   "source": [
    "1. Apresente a porcentagem de missões que deram certo"
   ]
  },
  {
   "cell_type": "code",
   "execution_count": null,
   "metadata": {},
   "outputs": [],
   "source": [
    "import numpy as np\n",
    "\n",
    "dataset = np.loadtxt('space.csv', delimiter=';', dtype=str, encoding='utf-8')\n",
    "\n",
    "missoesTotais = len(dataset)\n",
    "missoesCertas = np.sum(dataset[:, -1] == 'Success')\n",
    "\n",
    "porcentagem = (missoesCertas / missoesTotais) * 100\n",
    "\n",
    "# Exibir os resultados\n",
    "print(f'Total de missões: {missoesTotais}')\n",
    "print(f'Missões bem-sucedidas: {missoesCertas}')\n",
    "print(f'Porcentagem de missões que deram certo: {porcentagem:.2f}%')"
   ]
  },
  {
   "cell_type": "markdown",
   "metadata": {},
   "source": [
    "2. Qual a media de gastos de uma missão especial se baseando em missões que possuam valores disponíveis (> 0)?"
   ]
  },
  {
   "cell_type": "code",
   "execution_count": null,
   "metadata": {},
   "outputs": [],
   "source": [
    "gastos = dataset[dataset[:, -2].astype(float) > 0, -2].astype(float)\n",
    "media_gastos = np.mean(gastos)\n",
    "\n",
    "print(f'Média de gastos das missões especiais com valores > 0: {media_gastos:.2f}')"
   ]
  },
  {
   "cell_type": "markdown",
   "metadata": {},
   "source": [
    "3. Encontre quantas missões espaciais neste Dataset foram realizadas\n",
    "pelos Estados Unidos (EUA)"
   ]
  },
  {
   "cell_type": "code",
   "execution_count": null,
   "metadata": {},
   "outputs": [],
   "source": [
    "missoesEUA = np.sum(np.char.startswith(dataset[:, 0], 'USA'))\n",
    "\n",
    "print(f'Total de missões realizadas pelos EUA: {missoesEUA}')"
   ]
  },
  {
   "cell_type": "markdown",
   "metadata": {},
   "source": [
    "4. Encontre qual foi a missão mais cara realizada pela empresas “SpaceX”"
   ]
  },
  {
   "cell_type": "code",
   "execution_count": null,
   "metadata": {},
   "outputs": [],
   "source": [
    "spacex_missions = dataset[dataset[:, 1] == 'SpaceX']\n",
    "most_expensive = np.max(spacex_missions[:, -2].astype(float))"
   ]
  },
  {
   "cell_type": "markdown",
   "metadata": {},
   "source": [
    "5. Mostre o nome das empresas que já realizaram missões espaciais, juntamente com suas respectivas quantidades de missões (use o for no final para mostrar as informações)"
   ]
  },
  {
   "cell_type": "code",
   "execution_count": null,
   "metadata": {},
   "outputs": [],
   "source": [
    "empresas = np.unique(dataset[:, 1], return_counts=True)\n",
    "for empresa, count in zip(empresas[0], empresas[1]):\n",
    "    print(f'Empresa: {empresa}, Quantidade de missões: {count}')\n",
    "\n",
    "for empresa, count in zip(empresas[0], empresas[1]):\n",
    "    print(f'Empresa: {empresa}, Quantidade de missões: {count}')"
   ]
  }
 ],
 "metadata": {
  "kernelspec": {
   "display_name": "Python 3 (myenv)",
   "language": "python",
   "name": "myenv"
  },
  "language_info": {
   "codemirror_mode": {
    "name": "ipython",
    "version": 3
   },
   "file_extension": ".py",
   "mimetype": "text/x-python",
   "name": "python",
   "nbconvert_exporter": "python",
   "pygments_lexer": "ipython3",
   "version": "3.13.0"
  }
 },
 "nbformat": 4,
 "nbformat_minor": 2
}
